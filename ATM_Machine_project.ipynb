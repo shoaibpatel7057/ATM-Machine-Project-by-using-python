{
 "cells": [
  {
   "cell_type": "code",
   "execution_count": 1,
   "id": "fbe919f7-cffd-424f-878a-c64da4c0df54",
   "metadata": {},
   "outputs": [
    {
     "name": "stdout",
     "output_type": "stream",
     "text": [
      "\n",
      "Welcome to the Naresh IT ATM\n"
     ]
    },
    {
     "name": "stdin",
     "output_type": "stream",
     "text": [
      "Please enter your four digit pin:  7057\n"
     ]
    },
    {
     "name": "stdout",
     "output_type": "stream",
     "text": [
      "what do you want to do\n",
      " Enter 1 to Widthdraw Cash \n",
      " Enter 2 for Balance Enquiry \n",
      " Enter 3 to stop\n"
     ]
    },
    {
     "name": "stdin",
     "output_type": "stream",
     "text": [
      "Enter the number corresponding to the activity you want to do:  1\n",
      "Enter the amount of money you want to widthdraw:  3000\n"
     ]
    },
    {
     "name": "stdout",
     "output_type": "stream",
     "text": [
      "please wait your transaction being procced..\n",
      "Transaction Succesfull Thank you!\n",
      "3000 Rupees Withdrawl your remaining balance is 2000 Rupees\n",
      "\n",
      "what do you want to do\n",
      " Enter 1 to Widthdraw Cash \n",
      " Enter 2 for Balance Enquiry \n",
      " Enter 3 to stop\n"
     ]
    },
    {
     "name": "stdin",
     "output_type": "stream",
     "text": [
      "Enter the number corresponding to the activity you want to do:  3\n"
     ]
    }
   ],
   "source": [
    "import time\n",
    "user = {\n",
    "    'pin': 7057,\n",
    "    'balance':5000\n",
    "}\n",
    "\n",
    "def widthdraw_cash():\n",
    "    while True:        \n",
    "        amount = int(input(\"Enter the amount of money you want to widthdraw: \"))\n",
    "        print('please wait your transaction being procced..')\n",
    "        time.sleep(5)\n",
    "        print('Transaction Succesfull Thank you!')\n",
    "        if amount > user['balance']:\n",
    "            print(\"You don't have sufficient balance to make this widthdrawal\")\n",
    "        else:\n",
    "            user['balance'] = user['balance'] - amount\n",
    "            print(f\"{amount} Rupees Withdrawl your remaining balance is {user['balance']} Rupees\")\n",
    "            print('')\n",
    "            return False\n",
    "\n",
    "def balance_enquiry():\n",
    "    print(f\"Total balance {user['balance']} Rupees\")\n",
    "    print('')\n",
    "\n",
    "\n",
    "is_stop = False\n",
    "\n",
    "print('')\n",
    "print(\"Welcome to the Naresh IT ATM\")\n",
    "\n",
    "pin = int(input('Please enter your four digit pin: '))\n",
    "\n",
    "if pin == user['pin']:\n",
    "    while is_stop == False:\n",
    "        print(\"what do you want to do\")\n",
    "        print(\" Enter 1 to Widthdraw Cash \\n Enter 2 for Balance Enquiry \\n Enter 3 to stop\")\n",
    "        \n",
    "        press = int(input(\"Enter the number corresponding to the activity you want to do: \"))\n",
    "\n",
    "        if press == 1:\n",
    "            widthdraw_cash()\n",
    "        elif press == 2:\n",
    "            balance_enquiry()\n",
    "        elif press == 3:\n",
    "            is_stop = True\n",
    "\n",
    "        else:\n",
    "            print(\"Please enter a correct value\")\n",
    "else:\n",
    "    print(\"Entered wrong pin\")"
   ]
  },
  {
   "cell_type": "code",
   "execution_count": null,
   "id": "d72d13f4-eee0-477c-8db9-383d7085310f",
   "metadata": {},
   "outputs": [],
   "source": []
  }
 ],
 "metadata": {
  "kernelspec": {
   "display_name": "Python 3 (ipykernel)",
   "language": "python",
   "name": "python3"
  },
  "language_info": {
   "codemirror_mode": {
    "name": "ipython",
    "version": 3
   },
   "file_extension": ".py",
   "mimetype": "text/x-python",
   "name": "python",
   "nbconvert_exporter": "python",
   "pygments_lexer": "ipython3",
   "version": "3.12.7"
  }
 },
 "nbformat": 4,
 "nbformat_minor": 5
}
